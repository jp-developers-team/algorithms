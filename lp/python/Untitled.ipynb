{
 "cells": [
  {
   "cell_type": "code",
   "execution_count": null,
   "id": "452ccc26",
   "metadata": {},
   "outputs": [
    {
     "name": "stdout",
     "output_type": "stream",
     "text": [
      "Informe o seu nome\n",
      "mateus\n",
      "Informe a sua idade\n",
      "10\n",
      "Informe seu sexo? \n",
      "Pressione [M] para MASCULINO Ou Pressione [F] para FEMININO\n",
      "m\n",
      "\n",
      "Resultado pós repetição ,\n",
      "Total de homens: 1, \n",
      "Total de mulheres: 0, \n",
      "O nome da pessoa mais velha é: mateus, \n",
      "O nome da pessoa mais jovem é: mateus, \n",
      "Média de idade do grupo: 10.0, \n",
      "Quantidade de homens com mais de 30 anos 0, \n",
      "Quantidade de mulheres com menos de 18 anos 0\n"
     ]
    }
   ],
   "source": [
    "r = \"S\"\n",
    "\n",
    "contador = 0\n",
    "\n",
    "homem = 0\n",
    "mulher = 0\n",
    "\n",
    "home_mais_que_trinta = 0\n",
    "mulher_menos_de_dezoito = 0\n",
    "\n",
    "idade_mais_velha = 0\n",
    "idade_mais_jovem = 999999999\n",
    "\n",
    "while (r == \"S\"):\n",
    "\n",
    "    nome = input(\"Informe o seu nome\\n\")\n",
    "    idade = int(input(\"Informe a sua idade\\n\"))\n",
    "    genero = input(\"Informe seu sexo? \\nPressione [M] para MASCULINO Ou Pressione [F] para FEMININO\\n\").upper()\n",
    "    \n",
    "    contador = contador + 1\n",
    "    \n",
    "    if(genero == \"M\"):\n",
    "        sexo = \"MASCULINO\"\n",
    "        homem = homem + 1\n",
    "        \n",
    "        if(idade > 30):\n",
    "            home_mais_que_trinta = home_mais_que_trinta + 1\n",
    "    else:\n",
    "        sexo = \"FEMININO\"\n",
    "        mulher = mulher + 1\n",
    "        \n",
    "        if(idade < 18):\n",
    "            mulher_menos_de_dezoito = mulher_menos_de_dezoito + 1\n",
    "    \n",
    "    if(idade > idade_mais_velha):                \n",
    "        idade_mais_velha = idade\n",
    "        nome_mais_velha = nome\n",
    "\n",
    "    if(idade < idade_mais_jovem):\n",
    "        idade_mais_jovem = idade\n",
    "        nome_mais_jovem = nome                        \n",
    "        \n",
    "    media = str(round(idade/contador, 2))\n",
    "    \n",
    "    #Exibindo o resultado à cada repetição do \"While\"\n",
    "    print('\\nResultado pós repetição,\\nTotal de homens: {}, \\nTotal de mulheres: {}, \\nO nome da pessoa mais velha é: {}, \\nO nome da pessoa mais jovem é: {}, \\nMédia de idade do grupo: {}, \\nQuantidade de homens com mais de 30 anos {}, \\nQuantidade de mulheres com menos de 18 anos {}'.format(homem, mulher, nome_mais_velha, nome_mais_jovem, media, home_mais_que_trinta, mulher_menos_de_dezoito))\n",
    "\n",
    "    #Exibindo o resultado ou solicita o encerramento ao pressionar \"n\"\n",
    "    r = input(\"Deseja continuar? \\nPressione [s] para SIM Ou Pressione [n] para encerrar e exibir o resultado\\n\").upper()\n",
    "    \n",
    "#Exibindo o resultado ao pressionar \"n\" para encerrar\n",
    "print('\\nResultado pós encerramento, \\nTotal de homens: {}, \\nTotal de mulheres: {}, \\nO nome da pessoa mais velha é: {}, \\nO nome da pessoa mais jovem é: {}, \\nMédia de idade do grupo: {}, \\nQuantidade de homens com mais de 30 anos {}, \\nQuantidade de mulheres com menos de 18 anos {}'.format(homem, mulher, nome_mais_velha, nome_mais_jovem, media, home_mais_que_trinta, mulher_menos_de_dezoito))\n"
   ]
  },
  {
   "cell_type": "code",
   "execution_count": null,
   "id": "9a6d854d",
   "metadata": {},
   "outputs": [],
   "source": []
  }
 ],
 "metadata": {
  "kernelspec": {
   "display_name": "Python 3 (ipykernel)",
   "language": "python",
   "name": "python3"
  },
  "language_info": {
   "codemirror_mode": {
    "name": "ipython",
    "version": 3
   },
   "file_extension": ".py",
   "mimetype": "text/x-python",
   "name": "python",
   "nbconvert_exporter": "python",
   "pygments_lexer": "ipython3",
   "version": "3.7.11"
  }
 },
 "nbformat": 4,
 "nbformat_minor": 5
}
